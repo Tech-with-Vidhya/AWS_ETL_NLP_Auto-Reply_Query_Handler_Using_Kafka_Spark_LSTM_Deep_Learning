{
  "nbformat": 4,
  "nbformat_minor": 0,
  "metadata": {
    "colab": {
      "name": "MulticlassTwitterComplaint.ipynb",
      "provenance": [],
      "collapsed_sections": []
    },
    "kernelspec": {
      "name": "python3",
      "display_name": "Python 3"
    },
    "language_info": {
      "name": "python"
    },
    "accelerator": "GPU"
  },
  "cells": [
    {
      "cell_type": "code",
      "metadata": {
        "colab": {
          "base_uri": "https://localhost:8080/"
        },
        "id": "Hrh8uXiNiJns",
        "outputId": "66f9b975-8913-411e-a261-bfb5c129f9fc"
      },
      "source": [
        "# mounting to google drive\n",
        "from google.colab import drive\n",
        "drive.mount(\"TwitterSupport\")"
      ],
      "execution_count": null,
      "outputs": [
        {
          "output_type": "stream",
          "text": [
            "Mounted at TwitterSupport\n"
          ],
          "name": "stdout"
        }
      ]
    },
    {
      "cell_type": "code",
      "metadata": {
        "colab": {
          "base_uri": "https://localhost:8080/"
        },
        "id": "q681Cx_nMAfJ",
        "outputId": "51c7bf31-a52e-4680-9d67-cc4ea9a8de9f"
      },
      "source": [
        "!pip install tokenizer"
      ],
      "execution_count": null,
      "outputs": [
        {
          "output_type": "stream",
          "text": [
            "Collecting tokenizer\n",
            "\u001b[?25l  Downloading https://files.pythonhosted.org/packages/eb/55/077d1d428bd6fd6e3d306ff375c06320ccd20d36b29542cff8ab700d45d0/tokenizer-3.1.2-py2.py3-none-any.whl (77kB)\n",
            "\r\u001b[K     |████▎                           | 10kB 16.7MB/s eta 0:00:01\r\u001b[K     |████████▌                       | 20kB 23.6MB/s eta 0:00:01\r\u001b[K     |████████████▊                   | 30kB 26.7MB/s eta 0:00:01\r\u001b[K     |█████████████████               | 40kB 30.1MB/s eta 0:00:01\r\u001b[K     |█████████████████████▏          | 51kB 24.3MB/s eta 0:00:01\r\u001b[K     |█████████████████████████▍      | 61kB 26.3MB/s eta 0:00:01\r\u001b[K     |█████████████████████████████▋  | 71kB 23.7MB/s eta 0:00:01\r\u001b[K     |████████████████████████████████| 81kB 7.4MB/s \n",
            "\u001b[?25hInstalling collected packages: tokenizer\n",
            "Successfully installed tokenizer-3.1.2\n"
          ],
          "name": "stdout"
        }
      ]
    },
    {
      "cell_type": "code",
      "metadata": {
        "id": "7u6Ih_K29crk",
        "colab": {
          "base_uri": "https://localhost:8080/"
        },
        "outputId": "36baeb6b-f854-4cb7-e726-21ab7b8a56c1"
      },
      "source": [
        "# importing necessary files\n",
        "import os, string\n",
        "import numpy as np\n",
        "import pandas as pd\n",
        "import matplotlib.pyplot as plt\n",
        "import seaborn as sns\n",
        "#import utils\n",
        "#from utils import *\n",
        "\n",
        "import snowballstemmer\n",
        "from nltk.corpus import stopwords\n",
        "\n",
        "from sklearn.preprocessing import LabelEncoder\n",
        "from sklearn.model_selection import train_test_split, cross_val_score \n",
        "import pandas as pd\n",
        "import matplotlib.cm as cm\n",
        "\n",
        "#LSTM Modeling\n",
        "import tensorflow as tf\n",
        "from tensorflow.keras.preprocessing.text import Tokenizer\n",
        "from tensorflow.keras.preprocessing.sequence import pad_sequences\n",
        "import tensorflow.keras.models\n",
        "from tensorflow.keras.models import Sequential\n",
        "from tensorflow.keras.layers import Embedding\n",
        "from keras.layers.recurrent import LSTM\n",
        "from tensorflow.keras.layers import Input, Dense, Embedding, SpatialDropout1D, add, concatenate\n",
        "from tensorflow.keras.callbacks import ModelCheckpoint, EarlyStopping\n",
        "\n",
        "\n",
        "import nltk\n",
        "nltk.download('stopwords')\n",
        "from nltk import PorterStemmer"
      ],
      "execution_count": null,
      "outputs": [
        {
          "output_type": "stream",
          "text": [
            "[nltk_data] Downloading package stopwords to /root/nltk_data...\n",
            "[nltk_data]   Unzipping corpora/stopwords.zip.\n"
          ],
          "name": "stdout"
        }
      ]
    },
    {
      "cell_type": "code",
      "metadata": {
        "id": "674gKtQ8i2wc"
      },
      "source": [
        "# Root dir\n",
        "ROOT_DIR=\"TwitterSupport/MyDrive/TwitterSupport/\""
      ],
      "execution_count": null,
      "outputs": []
    },
    {
      "cell_type": "code",
      "metadata": {
        "colab": {
          "base_uri": "https://localhost:8080/",
          "height": 479
        },
        "id": "Niz07JA1eUcL",
        "outputId": "7c2a3ad3-06bd-4e7a-b431-108db26b1b41"
      },
      "source": [
        "# getting the data\n",
        "df = pd.read_csv(ROOT_DIR+'dataset/labelled_airline_tweet.csv')\n",
        "df.head()"
      ],
      "execution_count": null,
      "outputs": [
        {
          "output_type": "execute_result",
          "data": {
            "text/html": [
              "<div>\n",
              "<style scoped>\n",
              "    .dataframe tbody tr th:only-of-type {\n",
              "        vertical-align: middle;\n",
              "    }\n",
              "\n",
              "    .dataframe tbody tr th {\n",
              "        vertical-align: top;\n",
              "    }\n",
              "\n",
              "    .dataframe thead th {\n",
              "        text-align: right;\n",
              "    }\n",
              "</style>\n",
              "<table border=\"1\" class=\"dataframe\">\n",
              "  <thead>\n",
              "    <tr style=\"text-align: right;\">\n",
              "      <th></th>\n",
              "      <th>Unnamed: 0</th>\n",
              "      <th>tweet_id</th>\n",
              "      <th>airline_sentiment</th>\n",
              "      <th>airline_sentiment_confidence</th>\n",
              "      <th>negativereason</th>\n",
              "      <th>negativereason_confidence</th>\n",
              "      <th>airline</th>\n",
              "      <th>airline_sentiment_gold</th>\n",
              "      <th>name</th>\n",
              "      <th>negativereason_gold</th>\n",
              "      <th>retweet_count</th>\n",
              "      <th>text</th>\n",
              "      <th>tweet_coord</th>\n",
              "      <th>tweet_created</th>\n",
              "      <th>tweet_location</th>\n",
              "      <th>user_timezone</th>\n",
              "      <th>token</th>\n",
              "      <th>topic_no</th>\n",
              "      <th>topic_prob</th>\n",
              "      <th>topic_desc</th>\n",
              "    </tr>\n",
              "  </thead>\n",
              "  <tbody>\n",
              "    <tr>\n",
              "      <th>0</th>\n",
              "      <td>0</td>\n",
              "      <td>570301031407624196</td>\n",
              "      <td>negative</td>\n",
              "      <td>1.0000</td>\n",
              "      <td>Bad Flight</td>\n",
              "      <td>0.7033</td>\n",
              "      <td>Virgin America</td>\n",
              "      <td>NaN</td>\n",
              "      <td>jnardino</td>\n",
              "      <td>NaN</td>\n",
              "      <td>0</td>\n",
              "      <td>@VirginAmerica it's really aggressive to blast...</td>\n",
              "      <td>NaN</td>\n",
              "      <td>2015-02-24 11:15:36 -0800</td>\n",
              "      <td>NaN</td>\n",
              "      <td>Pacific Time (US &amp; Canada)</td>\n",
              "      <td>['aggressive', 'blast', 'obnoxious', 'entertai...</td>\n",
              "      <td>3</td>\n",
              "      <td>0.221675</td>\n",
              "      <td>Reschedule and Refund</td>\n",
              "    </tr>\n",
              "    <tr>\n",
              "      <th>1</th>\n",
              "      <td>1</td>\n",
              "      <td>570300817074462722</td>\n",
              "      <td>negative</td>\n",
              "      <td>1.0000</td>\n",
              "      <td>Can't Tell</td>\n",
              "      <td>1.0000</td>\n",
              "      <td>Virgin America</td>\n",
              "      <td>NaN</td>\n",
              "      <td>jnardino</td>\n",
              "      <td>NaN</td>\n",
              "      <td>0</td>\n",
              "      <td>@VirginAmerica and it's a really big bad thing...</td>\n",
              "      <td>NaN</td>\n",
              "      <td>2015-02-24 11:14:45 -0800</td>\n",
              "      <td>NaN</td>\n",
              "      <td>Pacific Time (US &amp; Canada)</td>\n",
              "      <td>[]</td>\n",
              "      <td>3</td>\n",
              "      <td>0.214476</td>\n",
              "      <td>Reschedule and Refund</td>\n",
              "    </tr>\n",
              "    <tr>\n",
              "      <th>2</th>\n",
              "      <td>2</td>\n",
              "      <td>570300767074181121</td>\n",
              "      <td>negative</td>\n",
              "      <td>1.0000</td>\n",
              "      <td>Can't Tell</td>\n",
              "      <td>0.6842</td>\n",
              "      <td>Virgin America</td>\n",
              "      <td>NaN</td>\n",
              "      <td>jnardino</td>\n",
              "      <td>NaN</td>\n",
              "      <td>0</td>\n",
              "      <td>@VirginAmerica seriously would pay $30 a fligh...</td>\n",
              "      <td>NaN</td>\n",
              "      <td>2015-02-24 11:14:33 -0800</td>\n",
              "      <td>NaN</td>\n",
              "      <td>Pacific Time (US &amp; Canada)</td>\n",
              "      <td>['seat', 'play', 'fly']</td>\n",
              "      <td>4</td>\n",
              "      <td>0.227286</td>\n",
              "      <td>Phone and Online Booking</td>\n",
              "    </tr>\n",
              "    <tr>\n",
              "      <th>3</th>\n",
              "      <td>3</td>\n",
              "      <td>570282469121007616</td>\n",
              "      <td>negative</td>\n",
              "      <td>0.6842</td>\n",
              "      <td>Late Flight</td>\n",
              "      <td>0.3684</td>\n",
              "      <td>Virgin America</td>\n",
              "      <td>NaN</td>\n",
              "      <td>smartwatermelon</td>\n",
              "      <td>NaN</td>\n",
              "      <td>0</td>\n",
              "      <td>@VirginAmerica SFO-PDX schedule is still MIA.</td>\n",
              "      <td>NaN</td>\n",
              "      <td>2015-02-24 10:01:50 -0800</td>\n",
              "      <td>palo alto, ca</td>\n",
              "      <td>Pacific Time (US &amp; Canada)</td>\n",
              "      <td>['sfopdx', 'schedule']</td>\n",
              "      <td>3</td>\n",
              "      <td>0.259870</td>\n",
              "      <td>Reschedule and Refund</td>\n",
              "    </tr>\n",
              "    <tr>\n",
              "      <th>4</th>\n",
              "      <td>4</td>\n",
              "      <td>570276917301137409</td>\n",
              "      <td>negative</td>\n",
              "      <td>1.0000</td>\n",
              "      <td>Bad Flight</td>\n",
              "      <td>1.0000</td>\n",
              "      <td>Virgin America</td>\n",
              "      <td>NaN</td>\n",
              "      <td>heatherovieda</td>\n",
              "      <td>NaN</td>\n",
              "      <td>0</td>\n",
              "      <td>@VirginAmerica  I flew from NYC to SFO last we...</td>\n",
              "      <td>NaN</td>\n",
              "      <td>2015-02-24 09:39:46 -0800</td>\n",
              "      <td>this place called NYC</td>\n",
              "      <td>Eastern Time (US &amp; Canada)</td>\n",
              "      <td>['fully', 'large', 'gentleman']</td>\n",
              "      <td>3</td>\n",
              "      <td>0.193757</td>\n",
              "      <td>Reschedule and Refund</td>\n",
              "    </tr>\n",
              "  </tbody>\n",
              "</table>\n",
              "</div>"
            ],
            "text/plain": [
              "   Unnamed: 0            tweet_id  ... topic_prob                topic_desc\n",
              "0           0  570301031407624196  ...   0.221675     Reschedule and Refund\n",
              "1           1  570300817074462722  ...   0.214476     Reschedule and Refund\n",
              "2           2  570300767074181121  ...   0.227286  Phone and Online Booking\n",
              "3           3  570282469121007616  ...   0.259870     Reschedule and Refund\n",
              "4           4  570276917301137409  ...   0.193757     Reschedule and Refund\n",
              "\n",
              "[5 rows x 20 columns]"
            ]
          },
          "metadata": {
            "tags": []
          },
          "execution_count": 5
        }
      ]
    },
    {
      "cell_type": "code",
      "metadata": {
        "colab": {
          "base_uri": "https://localhost:8080/",
          "height": 479
        },
        "id": "QfoPO7MHyYaO",
        "outputId": "fb5ba826-7b9f-4a7c-fa21-2fe34ea16a15"
      },
      "source": [
        "df.head()"
      ],
      "execution_count": null,
      "outputs": [
        {
          "output_type": "execute_result",
          "data": {
            "text/html": [
              "<div>\n",
              "<style scoped>\n",
              "    .dataframe tbody tr th:only-of-type {\n",
              "        vertical-align: middle;\n",
              "    }\n",
              "\n",
              "    .dataframe tbody tr th {\n",
              "        vertical-align: top;\n",
              "    }\n",
              "\n",
              "    .dataframe thead th {\n",
              "        text-align: right;\n",
              "    }\n",
              "</style>\n",
              "<table border=\"1\" class=\"dataframe\">\n",
              "  <thead>\n",
              "    <tr style=\"text-align: right;\">\n",
              "      <th></th>\n",
              "      <th>Unnamed: 0</th>\n",
              "      <th>tweet_id</th>\n",
              "      <th>airline_sentiment</th>\n",
              "      <th>airline_sentiment_confidence</th>\n",
              "      <th>negativereason</th>\n",
              "      <th>negativereason_confidence</th>\n",
              "      <th>airline</th>\n",
              "      <th>airline_sentiment_gold</th>\n",
              "      <th>name</th>\n",
              "      <th>negativereason_gold</th>\n",
              "      <th>retweet_count</th>\n",
              "      <th>text</th>\n",
              "      <th>tweet_coord</th>\n",
              "      <th>tweet_created</th>\n",
              "      <th>tweet_location</th>\n",
              "      <th>user_timezone</th>\n",
              "      <th>token</th>\n",
              "      <th>topic_no</th>\n",
              "      <th>topic_prob</th>\n",
              "      <th>topic_desc</th>\n",
              "    </tr>\n",
              "  </thead>\n",
              "  <tbody>\n",
              "    <tr>\n",
              "      <th>0</th>\n",
              "      <td>0</td>\n",
              "      <td>570301031407624196</td>\n",
              "      <td>negative</td>\n",
              "      <td>1.0000</td>\n",
              "      <td>Bad Flight</td>\n",
              "      <td>0.7033</td>\n",
              "      <td>Virgin America</td>\n",
              "      <td>NaN</td>\n",
              "      <td>jnardino</td>\n",
              "      <td>NaN</td>\n",
              "      <td>0</td>\n",
              "      <td>@VirginAmerica it's really aggressive to blast...</td>\n",
              "      <td>NaN</td>\n",
              "      <td>2015-02-24 11:15:36 -0800</td>\n",
              "      <td>NaN</td>\n",
              "      <td>Pacific Time (US &amp; Canada)</td>\n",
              "      <td>['aggressive', 'blast', 'obnoxious', 'entertai...</td>\n",
              "      <td>3</td>\n",
              "      <td>0.221675</td>\n",
              "      <td>Reschedule and Refund</td>\n",
              "    </tr>\n",
              "    <tr>\n",
              "      <th>1</th>\n",
              "      <td>1</td>\n",
              "      <td>570300817074462722</td>\n",
              "      <td>negative</td>\n",
              "      <td>1.0000</td>\n",
              "      <td>Can't Tell</td>\n",
              "      <td>1.0000</td>\n",
              "      <td>Virgin America</td>\n",
              "      <td>NaN</td>\n",
              "      <td>jnardino</td>\n",
              "      <td>NaN</td>\n",
              "      <td>0</td>\n",
              "      <td>@VirginAmerica and it's a really big bad thing...</td>\n",
              "      <td>NaN</td>\n",
              "      <td>2015-02-24 11:14:45 -0800</td>\n",
              "      <td>NaN</td>\n",
              "      <td>Pacific Time (US &amp; Canada)</td>\n",
              "      <td>[]</td>\n",
              "      <td>3</td>\n",
              "      <td>0.214476</td>\n",
              "      <td>Reschedule and Refund</td>\n",
              "    </tr>\n",
              "    <tr>\n",
              "      <th>2</th>\n",
              "      <td>2</td>\n",
              "      <td>570300767074181121</td>\n",
              "      <td>negative</td>\n",
              "      <td>1.0000</td>\n",
              "      <td>Can't Tell</td>\n",
              "      <td>0.6842</td>\n",
              "      <td>Virgin America</td>\n",
              "      <td>NaN</td>\n",
              "      <td>jnardino</td>\n",
              "      <td>NaN</td>\n",
              "      <td>0</td>\n",
              "      <td>@VirginAmerica seriously would pay $30 a fligh...</td>\n",
              "      <td>NaN</td>\n",
              "      <td>2015-02-24 11:14:33 -0800</td>\n",
              "      <td>NaN</td>\n",
              "      <td>Pacific Time (US &amp; Canada)</td>\n",
              "      <td>['seat', 'play', 'fly']</td>\n",
              "      <td>4</td>\n",
              "      <td>0.227286</td>\n",
              "      <td>Phone and Online Booking</td>\n",
              "    </tr>\n",
              "    <tr>\n",
              "      <th>3</th>\n",
              "      <td>3</td>\n",
              "      <td>570282469121007616</td>\n",
              "      <td>negative</td>\n",
              "      <td>0.6842</td>\n",
              "      <td>Late Flight</td>\n",
              "      <td>0.3684</td>\n",
              "      <td>Virgin America</td>\n",
              "      <td>NaN</td>\n",
              "      <td>smartwatermelon</td>\n",
              "      <td>NaN</td>\n",
              "      <td>0</td>\n",
              "      <td>@VirginAmerica SFO-PDX schedule is still MIA.</td>\n",
              "      <td>NaN</td>\n",
              "      <td>2015-02-24 10:01:50 -0800</td>\n",
              "      <td>palo alto, ca</td>\n",
              "      <td>Pacific Time (US &amp; Canada)</td>\n",
              "      <td>['sfopdx', 'schedule']</td>\n",
              "      <td>3</td>\n",
              "      <td>0.259870</td>\n",
              "      <td>Reschedule and Refund</td>\n",
              "    </tr>\n",
              "    <tr>\n",
              "      <th>4</th>\n",
              "      <td>4</td>\n",
              "      <td>570276917301137409</td>\n",
              "      <td>negative</td>\n",
              "      <td>1.0000</td>\n",
              "      <td>Bad Flight</td>\n",
              "      <td>1.0000</td>\n",
              "      <td>Virgin America</td>\n",
              "      <td>NaN</td>\n",
              "      <td>heatherovieda</td>\n",
              "      <td>NaN</td>\n",
              "      <td>0</td>\n",
              "      <td>@VirginAmerica  I flew from NYC to SFO last we...</td>\n",
              "      <td>NaN</td>\n",
              "      <td>2015-02-24 09:39:46 -0800</td>\n",
              "      <td>this place called NYC</td>\n",
              "      <td>Eastern Time (US &amp; Canada)</td>\n",
              "      <td>['fully', 'large', 'gentleman']</td>\n",
              "      <td>3</td>\n",
              "      <td>0.193757</td>\n",
              "      <td>Reschedule and Refund</td>\n",
              "    </tr>\n",
              "  </tbody>\n",
              "</table>\n",
              "</div>"
            ],
            "text/plain": [
              "   Unnamed: 0            tweet_id  ... topic_prob                topic_desc\n",
              "0           0  570301031407624196  ...   0.221675     Reschedule and Refund\n",
              "1           1  570300817074462722  ...   0.214476     Reschedule and Refund\n",
              "2           2  570300767074181121  ...   0.227286  Phone and Online Booking\n",
              "3           3  570282469121007616  ...   0.259870     Reschedule and Refund\n",
              "4           4  570276917301137409  ...   0.193757     Reschedule and Refund\n",
              "\n",
              "[5 rows x 20 columns]"
            ]
          },
          "metadata": {
            "tags": []
          },
          "execution_count": 6
        }
      ]
    },
    {
      "cell_type": "code",
      "metadata": {
        "id": "d5ExLOd5gagK"
      },
      "source": [
        "data = df[['topic_desc', 'text']].copy()"
      ],
      "execution_count": null,
      "outputs": []
    },
    {
      "cell_type": "code",
      "metadata": {
        "colab": {
          "base_uri": "https://localhost:8080/",
          "height": 204
        },
        "id": "kpFmdnW3yDf1",
        "outputId": "8e06f1b3-a3dd-40d6-b993-12a0035e130c"
      },
      "source": [
        "data.head()"
      ],
      "execution_count": null,
      "outputs": [
        {
          "output_type": "execute_result",
          "data": {
            "text/html": [
              "<div>\n",
              "<style scoped>\n",
              "    .dataframe tbody tr th:only-of-type {\n",
              "        vertical-align: middle;\n",
              "    }\n",
              "\n",
              "    .dataframe tbody tr th {\n",
              "        vertical-align: top;\n",
              "    }\n",
              "\n",
              "    .dataframe thead th {\n",
              "        text-align: right;\n",
              "    }\n",
              "</style>\n",
              "<table border=\"1\" class=\"dataframe\">\n",
              "  <thead>\n",
              "    <tr style=\"text-align: right;\">\n",
              "      <th></th>\n",
              "      <th>topic_desc</th>\n",
              "      <th>text</th>\n",
              "    </tr>\n",
              "  </thead>\n",
              "  <tbody>\n",
              "    <tr>\n",
              "      <th>0</th>\n",
              "      <td>Reschedule and Refund</td>\n",
              "      <td>@VirginAmerica it's really aggressive to blast...</td>\n",
              "    </tr>\n",
              "    <tr>\n",
              "      <th>1</th>\n",
              "      <td>Reschedule and Refund</td>\n",
              "      <td>@VirginAmerica and it's a really big bad thing...</td>\n",
              "    </tr>\n",
              "    <tr>\n",
              "      <th>2</th>\n",
              "      <td>Phone and Online Booking</td>\n",
              "      <td>@VirginAmerica seriously would pay $30 a fligh...</td>\n",
              "    </tr>\n",
              "    <tr>\n",
              "      <th>3</th>\n",
              "      <td>Reschedule and Refund</td>\n",
              "      <td>@VirginAmerica SFO-PDX schedule is still MIA.</td>\n",
              "    </tr>\n",
              "    <tr>\n",
              "      <th>4</th>\n",
              "      <td>Reschedule and Refund</td>\n",
              "      <td>@VirginAmerica  I flew from NYC to SFO last we...</td>\n",
              "    </tr>\n",
              "  </tbody>\n",
              "</table>\n",
              "</div>"
            ],
            "text/plain": [
              "                 topic_desc                                               text\n",
              "0     Reschedule and Refund  @VirginAmerica it's really aggressive to blast...\n",
              "1     Reschedule and Refund  @VirginAmerica and it's a really big bad thing...\n",
              "2  Phone and Online Booking  @VirginAmerica seriously would pay $30 a fligh...\n",
              "3     Reschedule and Refund      @VirginAmerica SFO-PDX schedule is still MIA.\n",
              "4     Reschedule and Refund  @VirginAmerica  I flew from NYC to SFO last we..."
            ]
          },
          "metadata": {
            "tags": []
          },
          "execution_count": 8
        }
      ]
    },
    {
      "cell_type": "code",
      "metadata": {
        "colab": {
          "base_uri": "https://localhost:8080/",
          "height": 258
        },
        "id": "7iPBGNrlDk5y",
        "outputId": "a30983d6-afd5-4c7f-9898-d060521f3802"
      },
      "source": [
        "pd.set_option('display.max_colwidth', -1)\n",
        "data.sample(5)"
      ],
      "execution_count": null,
      "outputs": [
        {
          "output_type": "stream",
          "text": [
            "/usr/local/lib/python3.7/dist-packages/ipykernel_launcher.py:1: FutureWarning: Passing a negative integer is deprecated in version 1.0 and will not be supported in future version. Instead, use None to not limit the column width.\n",
            "  \"\"\"Entry point for launching an IPython kernel.\n"
          ],
          "name": "stderr"
        },
        {
          "output_type": "execute_result",
          "data": {
            "text/html": [
              "<div>\n",
              "<style scoped>\n",
              "    .dataframe tbody tr th:only-of-type {\n",
              "        vertical-align: middle;\n",
              "    }\n",
              "\n",
              "    .dataframe tbody tr th {\n",
              "        vertical-align: top;\n",
              "    }\n",
              "\n",
              "    .dataframe thead th {\n",
              "        text-align: right;\n",
              "    }\n",
              "</style>\n",
              "<table border=\"1\" class=\"dataframe\">\n",
              "  <thead>\n",
              "    <tr style=\"text-align: right;\">\n",
              "      <th></th>\n",
              "      <th>topic_desc</th>\n",
              "      <th>text</th>\n",
              "    </tr>\n",
              "  </thead>\n",
              "  <tbody>\n",
              "    <tr>\n",
              "      <th>8142</th>\n",
              "      <td>Reschedule and Refund</td>\n",
              "      <td>@AmericanAir has the worst flights and customer service, this is the second time I've been Cancelled Flighted. Gotta pay for hotel and find rides now.</td>\n",
              "    </tr>\n",
              "    <tr>\n",
              "      <th>6370</th>\n",
              "      <td>Reschedule and Refund</td>\n",
              "      <td>@USAirways  2 hours on hold and issue still not resolved. hope to make my flight in 12 hours. for every minute of talk = 20 minutes of hold</td>\n",
              "    </tr>\n",
              "    <tr>\n",
              "      <th>1332</th>\n",
              "      <td>Reschedule and Refund</td>\n",
              "      <td>@united Freakin\"</td>\n",
              "    </tr>\n",
              "    <tr>\n",
              "      <th>4145</th>\n",
              "      <td>Reschedule and Refund</td>\n",
              "      <td>@JetBlue I don't want JetBlue +TV. I want JetBlue +WIFI :(((</td>\n",
              "    </tr>\n",
              "    <tr>\n",
              "      <th>2208</th>\n",
              "      <td>Reschedule and Refund</td>\n",
              "      <td>@united to DM you I have to follow you and I'm not doing that. Plus they're no more options. That's why I had to fly with you. #epicfail</td>\n",
              "    </tr>\n",
              "  </tbody>\n",
              "</table>\n",
              "</div>"
            ],
            "text/plain": [
              "                 topic_desc                                                                                                                                                    text\n",
              "8142  Reschedule and Refund  @AmericanAir has the worst flights and customer service, this is the second time I've been Cancelled Flighted. Gotta pay for hotel and find rides now.\n",
              "6370  Reschedule and Refund  @USAirways  2 hours on hold and issue still not resolved. hope to make my flight in 12 hours. for every minute of talk = 20 minutes of hold           \n",
              "1332  Reschedule and Refund  @united Freakin\"                                                                                                                                      \n",
              "4145  Reschedule and Refund  @JetBlue I don't want JetBlue +TV. I want JetBlue +WIFI :(((                                                                                          \n",
              "2208  Reschedule and Refund  @united to DM you I have to follow you and I'm not doing that. Plus they're no more options. That's why I had to fly with you. #epicfail              "
            ]
          },
          "metadata": {
            "tags": []
          },
          "execution_count": 9
        }
      ]
    },
    {
      "cell_type": "code",
      "metadata": {
        "colab": {
          "base_uri": "https://localhost:8080/"
        },
        "id": "_k_UwFRejkBC",
        "outputId": "44e56cae-2198-404b-f7ee-bf77cf3133b1"
      },
      "source": [
        "data['topic_desc'].value_counts()"
      ],
      "execution_count": null,
      "outputs": [
        {
          "output_type": "execute_result",
          "data": {
            "text/plain": [
              "Reschedule and Refund         6512\n",
              "Baggage Issue                 1513\n",
              "Phone and Online Booking      421 \n",
              "Extra Charges                 268 \n",
              "Delay and Customer Service    223 \n",
              "Seating Preferences           153 \n",
              "Reservation Issue             78  \n",
              "Customer Experience           10  \n",
              "Name: topic_desc, dtype: int64"
            ]
          },
          "metadata": {
            "tags": []
          },
          "execution_count": 10
        }
      ]
    },
    {
      "cell_type": "code",
      "metadata": {
        "id": "spSCor8wqP8n"
      },
      "source": [
        ""
      ],
      "execution_count": null,
      "outputs": []
    },
    {
      "cell_type": "code",
      "metadata": {
        "id": "_U-S_xrpq0sW"
      },
      "source": [
        "\n",
        "  "
      ],
      "execution_count": null,
      "outputs": []
    },
    {
      "cell_type": "code",
      "metadata": {
        "colab": {
          "base_uri": "https://localhost:8080/"
        },
        "id": "r-kUo9x5xAHg",
        "outputId": "91e8641d-5379-4a3e-982e-5e7a6f289d87"
      },
      "source": [
        "def print_plot(index):\n",
        "    example = df[df.index == index][['text','topic_desc']].values[0]\n",
        "    if len(example) > 0:\n",
        "        print(example[0])\n",
        "        print('product:', example[1])\n",
        "print_plot(10)"
      ],
      "execution_count": null,
      "outputs": [
        {
          "output_type": "stream",
          "text": [
            "@VirginAmerica hi! I just bked a cool birthday trip with you, but i can't add my elevate no. cause i entered my middle name during Flight Booking Problems 😢\n",
            "product: Reservation Issue\n"
          ],
          "name": "stdout"
        }
      ]
    },
    {
      "cell_type": "code",
      "metadata": {
        "id": "3q-ycfohn3oW"
      },
      "source": [
        "#Text Preprocessing\n",
        "import re\n",
        "\n",
        "def clean_text(txt):\n",
        "    \n",
        "    \"\"\"\n",
        "    removing all hashtags , punctuations, stop_words  and links, also stemming words \n",
        "    \"\"\"\n",
        "    txt = txt.lower()\n",
        "    txt = re.sub(r\"(?<=\\w)nt\", \"not\",txt) #change don't to do not cna't to cannot \n",
        "    txt = re.sub(r\"(@\\S+)\", \"\", txt)  # remove hashtags\n",
        "    txt = re.sub(r'\\W', ' ', str(txt)) # remove all special characters including apastrophie \n",
        "    txt = txt.translate(str.maketrans('', '', string.punctuation)) # remove punctuations \n",
        "    txt = re.sub(r'\\s+[a-zA-Z]\\s+', ' ', txt)   # remove all single characters (it's -> it s then we need to remove s)\n",
        "    txt = re.sub(r'\\s+', ' ', txt, flags=re.I) # Substituting multiple spaces with single space\n",
        "    txt = re.sub(r\"(http\\S+|http)\", \"\", txt) # remove links \n",
        "    txt = ' '.join([PorterStemmer().stem(word=word) for word in txt.split(\" \") if word not in stopwords.words('english') ]) # stem & remove stop words\n",
        "    txt = ''.join([i for i in txt if not i.isdigit()]).strip() # remove digits ()\n",
        "    return txt\n"
      ],
      "execution_count": null,
      "outputs": []
    },
    {
      "cell_type": "code",
      "metadata": {
        "colab": {
          "base_uri": "https://localhost:8080/"
        },
        "id": "pkNwTVrXxT4I",
        "outputId": "995abd28-5706-48cd-d3e7-7c5760ffe97f"
      },
      "source": [
        "print('Original Text : ',data['text'][5])  \n",
        "print('Processed Text : ',clean_text(data['text'][5]))"
      ],
      "execution_count": null,
      "outputs": [
        {
          "output_type": "stream",
          "text": [
            "Original Text :  @VirginAmerica why are your first fares in May over three times more than other carriers when all seats are available to select???\n",
            "Processed Text :  first fare may three time carrier seat avail select\n"
          ],
          "name": "stdout"
        }
      ]
    },
    {
      "cell_type": "code",
      "metadata": {
        "id": "UzVkjFMB3Lei"
      },
      "source": [
        "data['text'] = data['text'].apply(clean_text)\n",
        "# df['text'] = df['text'].str.replace('\\d+', '')"
      ],
      "execution_count": null,
      "outputs": []
    },
    {
      "cell_type": "code",
      "metadata": {
        "colab": {
          "base_uri": "https://localhost:8080/"
        },
        "id": "O7M2oCfE91P8",
        "outputId": "51b42907-5e9b-46c8-dbc8-9901edd98d9a"
      },
      "source": [
        "data['text'].values"
      ],
      "execution_count": null,
      "outputs": [
        {
          "output_type": "execute_result",
          "data": {
            "text/plain": [
              "array(['realli aggress blast obnoxi enotertainmenot guest face amp littl recours',\n",
              "       'realli big bad thing',\n",
              "       'serious would pay  flight seat play realli bad thing fli va', ...,\n",
              "       'right cue delay',\n",
              "       'leav  minut late flight warn commun unotil  minut late flight call shitti custom svc',\n",
              "       'money chang flight answer phone suggest make commitmenot'],\n",
              "      dtype=object)"
            ]
          },
          "metadata": {
            "tags": []
          },
          "execution_count": 15
        }
      ]
    },
    {
      "cell_type": "code",
      "metadata": {
        "colab": {
          "base_uri": "https://localhost:8080/"
        },
        "id": "qtkNpBlZLM7P",
        "outputId": "d6de0f22-9b27-4ba8-c0cd-3afe8c002db3"
      },
      "source": [
        "# The maximum number of words to be used. (most frequent)\n",
        "MAX_NB_WORDS = 50000\n",
        "# Max number of words in each complaint.\n",
        "MAX_SEQUENCE_LENGTH = 250\n",
        "# This is fixed. Embedding\n",
        "EMBEDDING_DIM = 100\n",
        "tokenizer = Tokenizer(num_words=MAX_NB_WORDS, filters='!\"#$%&()*+,-./:;<=>?@[\\]^_`{|}~', lower=True)\n",
        "tokenizer.fit_on_texts(df['text'].values)\n",
        "word_index = tokenizer.word_index\n",
        "print('Found %s unique tokens.' % len(word_index))"
      ],
      "execution_count": null,
      "outputs": [
        {
          "output_type": "stream",
          "text": [
            "Found 11306 unique tokens.\n"
          ],
          "name": "stdout"
        }
      ]
    },
    {
      "cell_type": "code",
      "metadata": {
        "colab": {
          "base_uri": "https://localhost:8080/"
        },
        "id": "cRiT3fYwOkNa",
        "outputId": "597ab943-2c7b-4b19-86f2-c8dab355eefb"
      },
      "source": [
        "# Word Embedding\n",
        "X = tokenizer.texts_to_sequences(df['text'].values)\n",
        "X = pad_sequences(X, maxlen=MAX_SEQUENCE_LENGTH)\n",
        "print('Shape of data tensor:', X.shape[1])"
      ],
      "execution_count": null,
      "outputs": [
        {
          "output_type": "stream",
          "text": [
            "Shape of data tensor: 250\n"
          ],
          "name": "stdout"
        }
      ]
    },
    {
      "cell_type": "code",
      "metadata": {
        "colab": {
          "base_uri": "https://localhost:8080/"
        },
        "id": "hXF3qCb1PA7j",
        "outputId": "1b66ab96-5f79-4262-fa6c-14dd3a17ad07"
      },
      "source": [
        "#Converting categorical labels to numbers.\n",
        "Y = pd.get_dummies(df['topic_desc']).values\n",
        "print('Shape of label tensor:', Y.shape)"
      ],
      "execution_count": null,
      "outputs": [
        {
          "output_type": "stream",
          "text": [
            "Shape of label tensor: (9178, 8)\n"
          ],
          "name": "stdout"
        }
      ]
    },
    {
      "cell_type": "code",
      "metadata": {
        "colab": {
          "base_uri": "https://localhost:8080/"
        },
        "id": "Urj2I9_UPE2a",
        "outputId": "6251a28b-9b9d-4778-9992-7d5cd03783c4"
      },
      "source": [
        "#Train-Test Split\n",
        "X_train, X_test, Y_train, Y_test = train_test_split(X,Y, test_size = 0.10, random_state = 42)\n",
        "print(X_train.shape,Y_train.shape)\n",
        "print(X_test.shape,Y_test.shape)\n"
      ],
      "execution_count": null,
      "outputs": [
        {
          "output_type": "stream",
          "text": [
            "(8260, 250) (8260, 8)\n",
            "(918, 250) (918, 8)\n"
          ],
          "name": "stdout"
        }
      ]
    },
    {
      "cell_type": "code",
      "metadata": {
        "colab": {
          "base_uri": "https://localhost:8080/"
        },
        "id": "m0sfRqrs--mf",
        "outputId": "3e1430ce-51e0-4cf0-c8ef-615331afb961"
      },
      "source": [
        "# Model Structuring\n",
        "\n",
        "model = Sequential()\n",
        "model.add(Embedding(MAX_NB_WORDS, EMBEDDING_DIM, input_length=X.shape[1]))\n",
        "model.add(SpatialDropout1D(0.2))\n",
        "model.add(LSTM(100, dropout=0.2, recurrent_dropout=0.2))\n",
        "model.add(Dense(8, activation='softmax'))\n",
        "model.compile(loss='categorical_crossentropy', optimizer='adam', metrics=['accuracy'])\n",
        "\n",
        "epochs = 10\n",
        "batch_size = 64\n",
        "early_stopping = EarlyStopping(monitor='val_loss', patience=20, verbose=1, mode='auto')\n",
        "\n",
        "history = model.fit(X_train, Y_train, epochs=epochs, batch_size=batch_size,validation_split=0.1,callbacks=[early_stopping])"
      ],
      "execution_count": null,
      "outputs": [
        {
          "output_type": "stream",
          "text": [
            "Epoch 1/10\n",
            "117/117 [==============================] - 175s 1s/step - loss: 1.0963 - accuracy: 0.6995 - val_loss: 0.9854 - val_accuracy: 0.7119\n",
            "Epoch 2/10\n",
            "117/117 [==============================] - 167s 1s/step - loss: 0.8949 - accuracy: 0.7191 - val_loss: 0.8563 - val_accuracy: 0.7349\n",
            "Epoch 3/10\n",
            "117/117 [==============================] - 171s 1s/step - loss: 0.6602 - accuracy: 0.7935 - val_loss: 0.8857 - val_accuracy: 0.7058\n",
            "Epoch 4/10\n",
            "117/117 [==============================] - 172s 1s/step - loss: 0.4613 - accuracy: 0.8504 - val_loss: 0.7812 - val_accuracy: 0.7700\n",
            "Epoch 5/10\n",
            "117/117 [==============================] - 173s 1s/step - loss: 0.3185 - accuracy: 0.8971 - val_loss: 0.8580 - val_accuracy: 0.7530\n",
            "Epoch 6/10\n",
            "117/117 [==============================] - 171s 1s/step - loss: 0.2283 - accuracy: 0.9276 - val_loss: 0.8534 - val_accuracy: 0.7906\n",
            "Epoch 7/10\n",
            "117/117 [==============================] - 172s 1s/step - loss: 0.1675 - accuracy: 0.9477 - val_loss: 0.8975 - val_accuracy: 0.7712\n",
            "Epoch 8/10\n",
            "117/117 [==============================] - 170s 1s/step - loss: 0.1037 - accuracy: 0.9697 - val_loss: 1.0095 - val_accuracy: 0.7772\n",
            "Epoch 9/10\n",
            "117/117 [==============================] - 170s 1s/step - loss: 0.0853 - accuracy: 0.9739 - val_loss: 0.9384 - val_accuracy: 0.7760\n",
            "Epoch 10/10\n",
            "117/117 [==============================] - 170s 1s/step - loss: 0.0610 - accuracy: 0.9843 - val_loss: 1.0467 - val_accuracy: 0.7906\n"
          ],
          "name": "stdout"
        }
      ]
    },
    {
      "cell_type": "code",
      "metadata": {
        "colab": {
          "base_uri": "https://localhost:8080/"
        },
        "id": "edu4RhWIZkZv",
        "outputId": "e9876e4e-f8b1-45cd-cb56-7d33c0dc0838"
      },
      "source": [
        "#Accuracy\n",
        "accr = model.evaluate(X_test,Y_test)\n",
        "print('Test set\\n  Loss: {:0.3f}\\n  Accuracy: {:0.3f}'.format(accr[0],accr[1]))"
      ],
      "execution_count": null,
      "outputs": [
        {
          "output_type": "stream",
          "text": [
            "29/29 [==============================] - 2s 85ms/step - loss: 0.8861 - accuracy: 0.8159\n",
            "Test set\n",
            "  Loss: 0.886\n",
            "  Accuracy: 0.816\n"
          ],
          "name": "stdout"
        }
      ]
    },
    {
      "cell_type": "code",
      "metadata": {
        "colab": {
          "base_uri": "https://localhost:8080/",
          "height": 281
        },
        "id": "b7VmkZABZsSj",
        "outputId": "68cac9f4-cd56-41a7-c69b-1f60439eb9c1"
      },
      "source": [
        "#Accuracy Plot\n",
        "plt.title('Accuracy')\n",
        "plt.plot(history.history['accuracy'], label='train')\n",
        "plt.plot(history.history['val_accuracy'], label='test')\n",
        "plt.legend()\n",
        "plt.show();"
      ],
      "execution_count": null,
      "outputs": [
        {
          "output_type": "display_data",
          "data": {
            "image/png": "[encoded data removed]",
            "text/plain": [
              "<Figure size 432x288 with 1 Axes>"
            ]
          },
          "metadata": {
            "tags": [],
            "needs_background": "light"
          }
        }
      ]
    },
    {
      "cell_type": "code",
      "metadata": {
        "colab": {
          "base_uri": "https://localhost:8080/"
        },
        "id": "lcWs0A5dZ33O",
        "outputId": "985c1acd-a726-466a-b300-ab72559ee7c5"
      },
      "source": [
        "# Test a new complaint\n",
        "new_tweet = ['is todays flight from Palm Springs Ca to JFK in NY Cancelled Flightled']\n",
        "seq = tokenizer.texts_to_sequences(new_tweet)\n",
        "padded = pad_sequences(seq, maxlen=MAX_SEQUENCE_LENGTH)\n",
        "pred = model.predict(padded)\n",
        "labels = ['Reschedule and Refund', 'Baggage Issue','Phone and Online Booking', 'Extra Charges', 'Delay and Customer Service', 'Seating Preferences', 'Reservation Issue', 'Customer Experience']\n",
        "print(pred, labels[np.argmax(pred)])"
      ],
      "execution_count": null,
      "outputs": [
        {
          "output_type": "stream",
          "text": [
            "[[1.3455907e-05 1.3101944e-06 4.0634932e-06 1.0643199e-05 1.5105183e-05\n",
            "  9.9992251e-01 2.0952546e-06 3.0809049e-05]] Seating Preferences\n"
          ],
          "name": "stdout"
        }
      ]
    },
    {
      "cell_type": "code",
      "metadata": {
        "id": "r3F_oukUkkS8"
      },
      "source": [
        "import pickle\n",
        "\n",
        "#saving model\n",
        "model.save_weights(ROOT_DIR+\"model_multiclass/multiclassComplaintClassifier.h5\")\n",
        "\n",
        "# saving tokenizer\n",
        "with open(ROOT_DIR+'model_multiclass/tokenizerMulticlassComplaintClassification.pickle', 'wb') as handle:\n",
        "    pickle.dump(tokenizer, handle, protocol=pickle.HIGHEST_PROTOCOL)"
      ],
      "execution_count": null,
      "outputs": []
    },
    {
      "cell_type": "code",
      "metadata": {
        "id": "_K3mSLJGk3ke"
      },
      "source": [
        "import pickle\n",
        "import tensorflow.keras.models\n",
        "from tensorflow.keras.models import Sequential\n",
        "from tensorflow.keras.layers import Embedding\n",
        "from keras.layers.recurrent import LSTM\n",
        "from tensorflow.keras.layers import Input, Dense, Embedding, SpatialDropout1D, add, concatenate\n",
        "from tensorflow.keras.callbacks import ModelCheckpoint, EarlyStopping\n",
        "\n",
        "#Text Preprocessing\n",
        "import re\n",
        "from nltk.corpus import stopwords\n",
        "\n",
        "class MulticlassComplainInference:\n",
        "\n",
        "  def __init__(self):\n",
        "      self.load_models()\n",
        "\n",
        "  def get_model(self):\n",
        "      model = Sequential()\n",
        "      model.add(Embedding(MAX_NB_WORDS, EMBEDDING_DIM, input_length=X.shape[1]))\n",
        "      model.add(SpatialDropout1D(0.2))\n",
        "      model.add(LSTM(100, dropout=0.2, recurrent_dropout=0.2))\n",
        "      model.add(Dense(8, activation='softmax'))\n",
        "      model.compile(loss='categorical_crossentropy', optimizer='adam', metrics=['accuracy'])\n",
        "      return model\n",
        "  \n",
        "  \n",
        "  def load_models(self):\n",
        "      with open(ROOT_DIR+'model_multiclass/tokenizerMulticlassComplaintClassification.pickle', 'rb') as handle:\n",
        "          self.tokenizer = pickle.load(handle)\n",
        "\n",
        "      self.model = self.get_model()\n",
        "      self.model.load_weights(ROOT_DIR+\"model_multiclass/multiclassComplaintClassifier.h5\")\n",
        "\n",
        "  def clean_text(self, txt):\n",
        "    \n",
        "      \"\"\"\n",
        "      removing all hashtags , punctuations, stop_words  and links, also stemming words \n",
        "      \"\"\"\n",
        "      txt = txt.lower()\n",
        "      txt = re.sub(r\"(?<=\\w)nt\", \"not\",txt) #change don't to do not cna't to cannot \n",
        "      txt = re.sub(r\"(@\\S+)\", \"\", txt)  # remove hashtags\n",
        "      txt = re.sub(r'\\W', ' ', str(txt)) # remove all special characters including apastrophie \n",
        "      txt = txt.translate(str.maketrans('', '', string.punctuation)) # remove punctuations \n",
        "      txt = re.sub(r'\\s+[a-zA-Z]\\s+', ' ', txt)   # remove all single characters (it's -> it s then we need to remove s)\n",
        "      txt = re.sub(r'\\s+', ' ', txt, flags=re.I) # Substituting multiple spaces with single space\n",
        "      txt = re.sub(r\"(http\\S+|http)\", \"\", txt) # remove links \n",
        "      txt = ' '.join([PorterStemmer().stem(word=word) for word in txt.split(\" \") if word not in stopwords.words('english') ]) # stem & remove stop words\n",
        "      txt = ''.join([i for i in txt if not i.isdigit()]).strip() # remove digits ()\n",
        "      return txt\n",
        "  \n",
        "  def predict_complaint(self, text):\n",
        "      new_tweet = self.clean_text(text)\n",
        "      seq = self.tokenizer.texts_to_sequences([new_tweet])\n",
        "      padded = pad_sequences(seq, maxlen=MAX_SEQUENCE_LENGTH)\n",
        "      pred = self.model.predict(padded)\n",
        "      labels = ['Reschedule and Refund', 'Baggage Issue','Phone and Online Booking', 'Extra Charges', \n",
        "                'Delay and Customer Service', 'Seating Preferences', 'Reservation Issue', 'Customer Experience']\n",
        "      print(pred, labels[np.argmax(pred)])\n",
        "      return labels[np.argmax(pred)]\n"
      ],
      "execution_count": null,
      "outputs": []
    },
    {
      "cell_type": "code",
      "metadata": {
        "id": "lK-ur4gOwaJC"
      },
      "source": [
        "mul = MulticlassComplainInference()"
      ],
      "execution_count": null,
      "outputs": []
    },
    {
      "cell_type": "code",
      "metadata": {
        "colab": {
          "base_uri": "https://localhost:8080/",
          "height": 69
        },
        "id": "rVQaJULgweU8",
        "outputId": "04a5bf8b-ca04-43e9-84cd-06043c7688a3"
      },
      "source": [
        "mul.predict_complaint(\"@united I have never been mislead by a company as many times as I have this week by United Airlines!\")"
      ],
      "execution_count": null,
      "outputs": [
        {
          "output_type": "stream",
          "text": [
            "[[5.6744000e-05 1.3707737e-05 4.6854115e-05 2.4869654e-05 2.9237121e-05\n",
            "  9.9966598e-01 5.9779791e-06 1.5672675e-04]] Seating Preferences\n"
          ],
          "name": "stdout"
        },
        {
          "output_type": "execute_result",
          "data": {
            "application/vnd.google.colaboratory.intrinsic+json": {
              "type": "string"
            },
            "text/plain": [
              "'Seating Preferences'"
            ]
          },
          "metadata": {
            "tags": []
          },
          "execution_count": 27
        }
      ]
    },
    {
      "cell_type": "code",
      "metadata": {
        "id": "Yb7RLok4wouz"
      },
      "source": [
        ""
      ],
      "execution_count": null,
      "outputs": []
    }
  ]
}
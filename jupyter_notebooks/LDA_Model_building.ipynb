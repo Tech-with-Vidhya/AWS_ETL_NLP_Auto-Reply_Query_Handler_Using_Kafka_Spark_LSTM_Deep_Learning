{
 "cells": [
  {
   "cell_type": "code",
   "execution_count": 1,
   "metadata": {
    "scrolled": true
   },
   "outputs": [
    {
     "name": "stderr",
     "output_type": "stream",
     "text": [
      "Using TensorFlow backend.\n"
     ]
    }
   ],
   "source": [
    "import matplotlib.pyplot as plt\n",
    "import pandas as pd\n",
    "import re\n",
    "import nltk\n",
    "#nltk.download('wordnet')\n",
    "from nltk.stem import WordNetLemmatizer\n",
    "import string\n",
    "#nltk.download('punkt')\n",
    "import gensim\n",
    "from gensim.parsing.preprocessing import STOPWORDS\n",
    "from bs4 import BeautifulSoup\n",
    "from gensim.models import CoherenceModel\n",
    "#from pyLDAvis import gensim\n"
   ]
  },
  {
   "cell_type": "code",
   "execution_count": 2,
   "metadata": {},
   "outputs": [],
   "source": [
    "tweets = pd.read_csv(\"dataset/Tweets.csv\")"
   ]
  },
  {
   "cell_type": "code",
   "execution_count": 4,
   "metadata": {},
   "outputs": [
    {
     "data": {
      "text/html": [
       "<div>\n",
       "<style scoped>\n",
       "    .dataframe tbody tr th:only-of-type {\n",
       "        vertical-align: middle;\n",
       "    }\n",
       "\n",
       "    .dataframe tbody tr th {\n",
       "        vertical-align: top;\n",
       "    }\n",
       "\n",
       "    .dataframe thead th {\n",
       "        text-align: right;\n",
       "    }\n",
       "</style>\n",
       "<table border=\"1\" class=\"dataframe\">\n",
       "  <thead>\n",
       "    <tr style=\"text-align: right;\">\n",
       "      <th></th>\n",
       "      <th>tweet_id</th>\n",
       "      <th>airline_sentiment</th>\n",
       "      <th>airline_sentiment_confidence</th>\n",
       "      <th>negativereason</th>\n",
       "      <th>negativereason_confidence</th>\n",
       "      <th>airline</th>\n",
       "      <th>airline_sentiment_gold</th>\n",
       "      <th>name</th>\n",
       "      <th>negativereason_gold</th>\n",
       "      <th>retweet_count</th>\n",
       "      <th>text</th>\n",
       "      <th>tweet_coord</th>\n",
       "      <th>tweet_created</th>\n",
       "      <th>tweet_location</th>\n",
       "      <th>user_timezone</th>\n",
       "    </tr>\n",
       "  </thead>\n",
       "  <tbody>\n",
       "    <tr>\n",
       "      <th>0</th>\n",
       "      <td>5.703060e+17</td>\n",
       "      <td>neutral</td>\n",
       "      <td>1.0000</td>\n",
       "      <td>NaN</td>\n",
       "      <td>NaN</td>\n",
       "      <td>Virgin America</td>\n",
       "      <td>NaN</td>\n",
       "      <td>cairdin</td>\n",
       "      <td>NaN</td>\n",
       "      <td>0</td>\n",
       "      <td>@VirginAmerica What @dhepburn said.</td>\n",
       "      <td>NaN</td>\n",
       "      <td>2/24/15 11:35</td>\n",
       "      <td>NaN</td>\n",
       "      <td>Eastern Time (US &amp; Canada)</td>\n",
       "    </tr>\n",
       "    <tr>\n",
       "      <th>1</th>\n",
       "      <td>5.703010e+17</td>\n",
       "      <td>positive</td>\n",
       "      <td>0.3486</td>\n",
       "      <td>NaN</td>\n",
       "      <td>0.0000</td>\n",
       "      <td>Virgin America</td>\n",
       "      <td>NaN</td>\n",
       "      <td>jnardino</td>\n",
       "      <td>NaN</td>\n",
       "      <td>0</td>\n",
       "      <td>@VirginAmerica plus you've added commercials t...</td>\n",
       "      <td>NaN</td>\n",
       "      <td>2/24/15 11:15</td>\n",
       "      <td>NaN</td>\n",
       "      <td>Pacific Time (US &amp; Canada)</td>\n",
       "    </tr>\n",
       "    <tr>\n",
       "      <th>2</th>\n",
       "      <td>5.703010e+17</td>\n",
       "      <td>neutral</td>\n",
       "      <td>0.6837</td>\n",
       "      <td>NaN</td>\n",
       "      <td>NaN</td>\n",
       "      <td>Virgin America</td>\n",
       "      <td>NaN</td>\n",
       "      <td>yvonnalynn</td>\n",
       "      <td>NaN</td>\n",
       "      <td>0</td>\n",
       "      <td>@VirginAmerica I didn't today... Must mean I n...</td>\n",
       "      <td>NaN</td>\n",
       "      <td>2/24/15 11:15</td>\n",
       "      <td>Lets Play</td>\n",
       "      <td>Central Time (US &amp; Canada)</td>\n",
       "    </tr>\n",
       "    <tr>\n",
       "      <th>3</th>\n",
       "      <td>5.703010e+17</td>\n",
       "      <td>negative</td>\n",
       "      <td>1.0000</td>\n",
       "      <td>Bad Flight</td>\n",
       "      <td>0.7033</td>\n",
       "      <td>Virgin America</td>\n",
       "      <td>NaN</td>\n",
       "      <td>jnardino</td>\n",
       "      <td>NaN</td>\n",
       "      <td>0</td>\n",
       "      <td>@VirginAmerica it's really aggressive to blast...</td>\n",
       "      <td>NaN</td>\n",
       "      <td>2/24/15 11:15</td>\n",
       "      <td>NaN</td>\n",
       "      <td>Pacific Time (US &amp; Canada)</td>\n",
       "    </tr>\n",
       "    <tr>\n",
       "      <th>4</th>\n",
       "      <td>5.703010e+17</td>\n",
       "      <td>negative</td>\n",
       "      <td>1.0000</td>\n",
       "      <td>Can't Tell</td>\n",
       "      <td>1.0000</td>\n",
       "      <td>Virgin America</td>\n",
       "      <td>NaN</td>\n",
       "      <td>jnardino</td>\n",
       "      <td>NaN</td>\n",
       "      <td>0</td>\n",
       "      <td>@VirginAmerica and it's a really big bad thing...</td>\n",
       "      <td>NaN</td>\n",
       "      <td>2/24/15 11:14</td>\n",
       "      <td>NaN</td>\n",
       "      <td>Pacific Time (US &amp; Canada)</td>\n",
       "    </tr>\n",
       "  </tbody>\n",
       "</table>\n",
       "</div>"
      ],
      "text/plain": [
       "       tweet_id airline_sentiment  airline_sentiment_confidence  \\\n",
       "0  5.703060e+17           neutral                        1.0000   \n",
       "1  5.703010e+17          positive                        0.3486   \n",
       "2  5.703010e+17           neutral                        0.6837   \n",
       "3  5.703010e+17          negative                        1.0000   \n",
       "4  5.703010e+17          negative                        1.0000   \n",
       "\n",
       "  negativereason  negativereason_confidence         airline  \\\n",
       "0            NaN                        NaN  Virgin America   \n",
       "1            NaN                     0.0000  Virgin America   \n",
       "2            NaN                        NaN  Virgin America   \n",
       "3     Bad Flight                     0.7033  Virgin America   \n",
       "4     Can't Tell                     1.0000  Virgin America   \n",
       "\n",
       "  airline_sentiment_gold        name negativereason_gold  retweet_count  \\\n",
       "0                    NaN     cairdin                 NaN              0   \n",
       "1                    NaN    jnardino                 NaN              0   \n",
       "2                    NaN  yvonnalynn                 NaN              0   \n",
       "3                    NaN    jnardino                 NaN              0   \n",
       "4                    NaN    jnardino                 NaN              0   \n",
       "\n",
       "                                                text tweet_coord  \\\n",
       "0                @VirginAmerica What @dhepburn said.         NaN   \n",
       "1  @VirginAmerica plus you've added commercials t...         NaN   \n",
       "2  @VirginAmerica I didn't today... Must mean I n...         NaN   \n",
       "3  @VirginAmerica it's really aggressive to blast...         NaN   \n",
       "4  @VirginAmerica and it's a really big bad thing...         NaN   \n",
       "\n",
       "   tweet_created tweet_location               user_timezone  \n",
       "0  2/24/15 11:35            NaN  Eastern Time (US & Canada)  \n",
       "1  2/24/15 11:15            NaN  Pacific Time (US & Canada)  \n",
       "2  2/24/15 11:15      Lets Play  Central Time (US & Canada)  \n",
       "3  2/24/15 11:15            NaN  Pacific Time (US & Canada)  \n",
       "4  2/24/15 11:14            NaN  Pacific Time (US & Canada)  "
      ]
     },
     "execution_count": 4,
     "metadata": {},
     "output_type": "execute_result"
    }
   ],
   "source": [
    "tweets.head()"
   ]
  },
  {
   "cell_type": "code",
   "execution_count": 4,
   "metadata": {},
   "outputs": [
    {
     "data": {
      "text/plain": [
       "negative    0.626913\n",
       "neutral     0.211680\n",
       "positive    0.161407\n",
       "Name: airline_sentiment, dtype: float64"
      ]
     },
     "execution_count": 4,
     "metadata": {},
     "output_type": "execute_result"
    }
   ],
   "source": [
    "tweets.airline_sentiment.value_counts()/len(tweets)"
   ]
  },
  {
   "cell_type": "markdown",
   "metadata": {},
   "source": [
    "# Positive vs Negative Sentiment Categories Using LDA"
   ]
  },
  {
   "cell_type": "code",
   "execution_count": 4,
   "metadata": {},
   "outputs": [],
   "source": [
    "pos = tweets[tweets.airline_sentiment == 'positive']\n",
    "neg = tweets[tweets.airline_sentiment == 'negative']\n",
    "neu = tweets[tweets.airline_sentiment == 'neutral']"
   ]
  },
  {
   "cell_type": "code",
   "execution_count": 5,
   "metadata": {},
   "outputs": [],
   "source": [
    "neg = neg.reset_index(drop=True)"
   ]
  },
  {
   "cell_type": "markdown",
   "metadata": {},
   "source": [
    "### negative tweets categories - overall"
   ]
  },
  {
   "cell_type": "code",
   "execution_count": 34,
   "metadata": {},
   "outputs": [
    {
     "name": "stdout",
     "output_type": "stream",
     "text": [
      "There are 532323 wor ds in the combination of all review.\n"
     ]
    }
   ],
   "source": [
    "text = neg.text.dropna()\n",
    "text = text.to_string().lower()\n",
    "print(\"There are {} wor ds in the combination of all review.\".format(len(text)))"
   ]
  },
  {
   "cell_type": "markdown",
   "metadata": {},
   "source": [
    "# LDA Model to Find Topics for Negative Reviews"
   ]
  },
  {
   "cell_type": "code",
   "execution_count": 8,
   "metadata": {},
   "outputs": [],
   "source": [
    "#getting the adjectives and conjuction using spacy\n",
    "doc = []\n",
    "t = []\n",
    "for row in range(len(neg.text)):\n",
    "    doc.append(nlp(neg.text[row]))\n",
    "    t.append([str(token) for token in doc[row] if (token.pos_ in [\"ADJ\",\"CCONJ\"])])"
   ]
  },
  {
   "cell_type": "code",
   "execution_count": 160,
   "metadata": {},
   "outputs": [],
   "source": [
    "ts = set()\n",
    "for i in range(len(t)):\n",
    "    ts.add(i)"
   ]
  },
  {
   "cell_type": "code",
   "execution_count": 8,
   "metadata": {},
   "outputs": [],
   "source": [
    "#preprocess data\n",
    "def preprocess(text):\n",
    "    stopwords = set(STOPWORDS)\n",
    "    stopwords.update([\"american\", \"air\",\"airline\",\"thank\",\"united\",\"us\",\"airways\",\"virgin\",\"america\",\"jetblue\",\"youre\",\"extremely\",\n",
    "                     \"usairway\",\"usairways\",\"flight\",\"americanair\",\"southwestair\",\"southwestairlines\",\"arbitrarily\",\"dream\",\"crazy\",\n",
    "                     \"southwestairway\",\"southwestairways\",\"virginamerica\",\"really\",\"will\",\"going\",\"thanks\",\"thankyou\",\"passengersdont\",\n",
    "                     \"please\",\"got\",\"let\",\"take\",\"help\",\"already\",\"never\",\"now\",\"told\",\"guy\",\"new\",\"sure\",\"still\",\"amp\",\"continue\",\n",
    "                     \"plane\",\"tell\",\"ye\",\"trying\",\"yes\",\"guy\",\"much\",\"appreciate\", \"thx\",\"back\",\"ok\",\"good\",\"credit\",\"aacom\",\n",
    "                     \"flying\",\"love\",\"great\",\"awesome\",\"see\",\"nice\",\"alway\",\"httptcojwl26g6lrw\",\"dontflythem\",\"motherinlaw\",\"night\",\n",
    "                     \"nogearnotraining\",\"seriously\",\"didnt\",\"coudnt\",\"cant\",\"wont\",\"dont\",\"wat\",\"buffaloniagara\",\"hasshe\",\"morning\",\n",
    "                     \"woulda\",\"people\",\"try\",\"youve\",\"youd\",\"yours\",\"flightled\",\"tomorrow\",\"today\",\"wat\",\"jfkyou\",\"flite\",\"cause\",\n",
    "                     \"flightr\",\"flight\",\"need\",\"hours\",\"nooooo\",\"like\",\"doesnt\",\"right\",\"talk\",\"tweet\",\"mention\",\"pbijfk\",\"ridiculuous\",\n",
    "                     \"wasnt\",\"suppose\",\"want\",\"understand\",\"come\",\"work\",\"worse\",\"treat\",\"think\",\"know\",\"worst\",\"paulo\",\"staduim\",\n",
    "                     \"wouldnt\",\"stay\",\"away\",\"wont\",\"werent\",\"happen\",\"sorry\",\"havent\",\"tonight\",\"drive\",\"life\",\"thing\",\"aa951\",\n",
    "                     \"whats\",\"theyre\",\"better\",\"thats\",\"allow\",\"hope\",\"stop\",\"cool\",\"niece\",\"happy\",\"word\",\"customercant\",\n",
    "                     \"suck\",\"sunday\",\"monday\",\"tuesday\",\"wednesday\",\"thursday\",\"friday\",\"saturday\",\"weekend\",\"ruin\",\"shouldnt\",\n",
    "                     \"miami\",\"los angeles\",\"new york\",\"chicago\",\"dallas\",\"apparently\",\"itover\",\"someones\",\"savannah\",\"lucymay\",\n",
    "                     \"betterother\",\"instead\",\"look\",\"hopefully\",\"yesterday\",\"antonio\",\"unacceptable\",\"folks\",\"record\",'arent',\n",
    "                     \"miss\",\"hang\",\"wrong\",\"stick\",\"grind\",\"tarmac\",\"theres\",\"forget\",\"terrible\",\"clothe\",\"terrible\",\"break\",\n",
    "                     \"actually\",\"frustrate\",\"correct\",\"ridiculous\",\"expect\",\"different\",\"pathetic\",\"bother\",\"follow\",\"fault\",\n",
    "                     \"impossible\",\"point\",\"cover\",\"person\",\"ask\",\"speak\",\"things\",\"earlier\",\"mean\",\"select\",\"minutes\",\n",
    "                     \"unite\",\"horrible\",\"country\",\"leave\",\"speak\",\"apologize\",\"faster\",\"hop\",\"confuse\",\"lose\",\"flightd\",\"hear\",\n",
    "                     \"literally\",\"years\",\"surprise\",\"bump\",\"fail\",\"compensate\",\"hand\",\"helpful\",\"upset\",\"friend\",\"excuse\",\"claim\",\n",
    "                     \"situation\",\"multiple\",\"weather\",\"choose\",\"company\",\"believe\",\"question\",\"kick\",\"anymore\",\"awful\",\"delta\",\n",
    "                      \"dozen\",\"medical\",\"completely\",\"finally\", \"waste\",\"shock\",\"annoy\",\"maybe\",\"strand\",\"mess\",\"finally\",\n",
    "                      \"plan\",\"place\",\"apology\",\"center\",\"plan\",\"twitter\",\"promise\",\"prefer\",\"count\",\"maybe\",\"shock\",\"longer\",\"meet\",\n",
    "                         \"important\",\"drop\"])\n",
    " \n",
    "    #stopwords.update([i for i in ts])\n",
    "    # stopwords.update([str(i).lower() for i in cities.City]) #removing City names in US\n",
    "    r = re.compile(r'(?<=\\@)(\\w+)') #remove words after tags --> usually twitter account\n",
    "    ra = re.compile(r'(?<=\\#)(\\w+)') #remove words after hashtags\n",
    "    ro = re.compile(r'(flt\\d*)') #remove words after flight number\n",
    "    names = r.findall(text.lower())\n",
    "    hashtag = ra.findall(text.lower())\n",
    "    flight = ro.findall(text.lower())\n",
    "    lmtzr = WordNetLemmatizer()\n",
    "    def stem_tokens(tokens, lemmatize):\n",
    "        lemmatized = []\n",
    "        for item in tokens:\n",
    "            lemmatized.append(lmtzr.lemmatize(item,'v'))\n",
    "        return lemmatized\n",
    "    def deEmojify(inputString):\n",
    "        return inputString.encode('ascii', 'ignore').decode('ascii')\n",
    "    \n",
    "    #doc = nlp(text)\n",
    "    text = deEmojify(text)\n",
    "    soup = BeautifulSoup(text)\n",
    "    text = soup.get_text()\n",
    "    text = \"\".join([ch.lower() for ch in text if ch not in string.punctuation])\n",
    "    tokens = nltk.word_tokenize(text)\n",
    "    tokens = [ch for ch in tokens if len(ch)>4] #remove words with character length below 2\n",
    "    tokens = [ch for ch in tokens if len(ch)<=15] #remove words with character length above 15 \n",
    "    lemm = stem_tokens(tokens, lmtzr)\n",
    "    lemstop = [i for i in lemm if i not in stopwords]\n",
    "    lemstopcl = [i for i in lemstop if i not in names]\n",
    "    lemstopcl = [i for i in lemstopcl if i not in hashtag]\n",
    "    lemstopcl = [i for i in lemstopcl if i not in flight]\n",
    "    lemstopcl = [i for i in lemstopcl if not i.isdigit()]\n",
    "    #lemstopcl1 = [i for i in lemstopcl if i not in t]\n",
    "    return lemstopcl\n"
   ]
  },
  {
   "cell_type": "code",
   "execution_count": 178,
   "metadata": {},
   "outputs": [
    {
     "data": {
      "text/plain": [
       "['dissapointing', 'service', 'delay']"
      ]
     },
     "execution_count": 178,
     "metadata": {},
     "output_type": "execute_result"
    }
   ],
   "source": [
    "#testing the tokenizer\n",
    "text = \"\"\"@Jenny @Joe and @Susan we are all very dissapointing in your service with the LONG delays\n",
    "            for flt15539 560948 #notdoingthisanymore #dontflythem in New York to Chicago\"\"\"\n",
    "preprocess(text)"
   ]
  },
  {
   "cell_type": "code",
   "execution_count": 179,
   "metadata": {},
   "outputs": [
    {
     "name": "stdout",
     "output_type": "stream",
     "text": [
      "CPU times: user 4.61 s, sys: 167 ms, total: 4.77 s\n",
      "Wall time: 4.89 s\n"
     ]
    }
   ],
   "source": [
    "%%time\n",
    "import warnings\n",
    "warnings.simplefilter('ignore')\n",
    "\n",
    "neg['token']=neg.text.map(preprocess)"
   ]
  },
  {
   "cell_type": "code",
   "execution_count": 180,
   "metadata": {},
   "outputs": [],
   "source": [
    "processed_docs=neg['token']\n",
    "id2word = gensim.corpora.Dictionary(processed_docs)\n",
    "corpus = [id2word.doc2bow(text) for text in processed_docs]\n"
   ]
  },
  {
   "cell_type": "code",
   "execution_count": 129,
   "metadata": {},
   "outputs": [],
   "source": [
    "def compute_coherence_values(dictionary, corpus, texts, start, stop):\n",
    "    \"\"\"\n",
    "    Compute c_v coherence for various number of topics\n",
    "\n",
    "    Parameters:\n",
    "    ----------\n",
    "    dictionary : Gensim dictionary\n",
    "    corpus : Gensim corpus\n",
    "    texts : List of input texts\n",
    "\n",
    "    Returns:\n",
    "    -------\n",
    "    model_list : List of LDA topic models\n",
    "    coherence_values : Coherence values corresponding to the LDA model with respective number of topics\n",
    "    \"\"\"\n",
    "    coherence_values = []\n",
    "    model_list = []\n",
    "    for num_topics in range(start, stop):\n",
    "        model = gensim.models.ldamodel.LdaModel(corpus=corpus, \n",
    "                                                num_topics=num_topics,\n",
    "                                                id2word=id2word,\n",
    "                                               random_state=123,\n",
    "                                               alpha='auto',\n",
    "                                                eta='auto',\n",
    "                                               per_word_topics=True)\n",
    "        model_list.append(model)\n",
    "        coherencemodel = CoherenceModel(model=model, texts=texts, dictionary=dictionary, coherence='c_v')\n",
    "        coherence_values.append(coherencemodel.get_coherence())\n",
    "\n",
    "    return model_list, coherence_values"
   ]
  },
  {
   "cell_type": "code",
   "execution_count": 130,
   "metadata": {},
   "outputs": [],
   "source": [
    "start=3\n",
    "stop=9\n",
    "model_list, coherence_values = compute_coherence_values(dictionary=id2word, \n",
    "                                                        corpus=corpus, \n",
    "                                                        texts=processed_docs,\n",
    "                                                        start=start, \n",
    "                                                        stop=stop)"
   ]
  },
  {
   "cell_type": "code",
   "execution_count": 131,
   "metadata": {},
   "outputs": [
    {
     "data": {
      "image/png": "[encoded data removed]",
      "text/plain": [
       "<Figure size 720x504 with 1 Axes>"
      ]
     },
     "metadata": {},
     "output_type": "display_data"
    }
   ],
   "source": [
    "x = range(start, stop)\n",
    "plt.figure(figsize=(10,7))\n",
    "plt.style.use('ggplot')\n",
    "plt.plot(x, coherence_values, color = \"blue\",marker=\".\")\n",
    "plt.xlabel(\"Num Topics\", size=14)\n",
    "plt.ylabel(\"Coherence score\", size=14)\n",
    "plt.title('Choosing The Number of Topics Based on The Coherence Score',size=18)\n",
    "plt.show()"
   ]
  },
  {
   "cell_type": "markdown",
   "metadata": {},
   "source": [
    "### Choosing 8 as the number of topics for negative reviews"
   ]
  },
  {
   "cell_type": "code",
   "execution_count": 182,
   "metadata": {},
   "outputs": [
    {
     "name": "stdout",
     "output_type": "stream",
     "text": [
      "CPU times: user 1min 28s, sys: 886 ms, total: 1min 29s\n",
      "Wall time: 1min 31s\n"
     ]
    }
   ],
   "source": [
    "%%time\n",
    "# Create Dictionary\n",
    "id2word = gensim.corpora.Dictionary(processed_docs)\n",
    "\n",
    "# Create Corpus: Term Document Frequency\n",
    "corpus = [id2word.doc2bow(text) for text in processed_docs]\n",
    "\n",
    "# Build LDA model\n",
    "lda_model4 = gensim.models.ldamodel.LdaModel(corpus=corpus,\n",
    "                                           id2word=id2word,\n",
    "                                           num_topics=8, \n",
    "                                           random_state=123,\n",
    "                                           update_every=1,\n",
    "                                           chunksize=10,\n",
    "                                           passes=10,\n",
    "                                           alpha='auto',\n",
    "                                           eta='auto',\n",
    "                                           iterations=125,\n",
    "                                           per_word_topics=True)\n",
    "doc_lda = lda_model1[corpus]"
   ]
  },
  {
   "cell_type": "code",
   "execution_count": 183,
   "metadata": {},
   "outputs": [
    {
     "name": "stdout",
     "output_type": "stream",
     "text": [
      "[(0,\n",
      "  '0.086*\"service\" + 0.064*\"customer\" + 0.062*\"delay\" + 0.049*\"ticket\" + '\n",
      "  '0.041*\"rebooked\" + 0.035*\"agents\" + 0.028*\"email\" + 0.026*\"response\" + '\n",
      "  '0.019*\"passengers\" + 0.019*\"reason\"'),\n",
      " (1,\n",
      "  '0.130*\"wait\" + 0.109*\"airport\" + 0.055*\"baggage\" + 0.050*\"sit\" + '\n",
      "  '0.028*\"passenger\" + 0.020*\"receive\" + 0.019*\"information\" + 0.019*\"load\" + '\n",
      "  '0.018*\"depart\" + 0.012*\"counter\"'),\n",
      " (2,\n",
      "  '0.301*\"cancel\" + 0.033*\"staff\" + 0.024*\"fly\" + 0.022*\"assistance\" + '\n",
      "  '0.021*\"reschedule\" + 0.021*\"hotel\" + 0.020*\"refund\" + 0.015*\"offer\" + '\n",
      "  '0.014*\"money\" + 0.012*\"airports\"'),\n",
      " (3,\n",
      "  '0.195*\"phone\" + 0.083*\"change\" + 0.066*\"online\" + 0.057*\"book\" + '\n",
      "  '0.035*\"problems\" + 0.020*\"handle\" + 0.019*\"option\" + 0.016*\"contact\" + '\n",
      "  '0.015*\"attempt\" + 0.011*\"ignore\"'),\n",
      " (4,\n",
      "  '0.160*\"answer\" + 0.146*\"number\" + 0.097*\"reservation\" + 0.031*\"direct\" + '\n",
      "  '0.008*\"fix\" + 0.008*\"flyer\" + 0.006*\"catch\" + 0.005*\"friends\" + '\n",
      "  '0.004*\"head\" + 0.001*\"neglect\"'),\n",
      " (5,\n",
      "  '0.109*\"time\" + 0.078*\"rebook\" + 0.077*\"available\" + 0.071*\"reservations\" + '\n",
      "  '0.067*\"seat\" + 0.034*\"airlines\" + 0.029*\"respond\" + 0.027*\"accept\" + '\n",
      "  '0.018*\"start\" + 0.014*\"compensation\"'),\n",
      " (6,\n",
      "  '0.227*\"luggage\" + 0.050*\"extra\" + 0.033*\"pay\" + 0.025*\"deliver\" + '\n",
      "  '0.016*\"honor\" + 0.002*\"walk\" + 0.001*\"rental\" + 0.001*\"seattle\" + '\n",
      "  '0.001*\"neglect\" + 0.001*\"stuffy\"'),\n",
      " (7,\n",
      "  '0.070*\"agent\" + 0.041*\"issue\" + 0.038*\"customers\" + 0.028*\"experience\" + '\n",
      "  '0.027*\"board\" + 0.023*\"check\" + 0.019*\"website\" + 0.016*\"connection\" + '\n",
      "  '0.016*\"travel\" + 0.015*\"voucher\"')]\n"
     ]
    }
   ],
   "source": [
    "from pprint import pprint\n",
    "pprint(lda_model4.print_topics())"
   ]
  },
  {
   "cell_type": "code",
   "execution_count": 184,
   "metadata": {},
   "outputs": [
    {
     "name": "stdout",
     "output_type": "stream",
     "text": [
      "\n",
      "Perplexity:  -9.346459933442205\n",
      "\n",
      "Coherence Score:  0.6030993107622276\n"
     ]
    }
   ],
   "source": [
    "# Compute Perplexity\n",
    "print('\\nPerplexity: ', lda_model4.log_perplexity(corpus))  # a measure of how good the model is. lower the better.\n",
    "\n",
    "# Compute Coherence Score\n",
    "coherence_model_lda = CoherenceModel(model=lda_model4, texts=processed_docs, dictionary=id2word, coherence='c_v')\n",
    "coherence_lda = coherence_model_lda.get_coherence()\n",
    "print('\\nCoherence Score: ', coherence_lda)"
   ]
  },
  {
   "cell_type": "code",
   "execution_count": 36,
   "metadata": {},
   "outputs": [
    {
     "name": "stdout",
     "output_type": "stream",
     "text": [
      "Predicted topic:  8\n",
      "Probability Score:  0.24903516\n",
      "Customer Experience\n",
      "\n",
      "\n",
      "Score: 0.2876979112625122\n",
      " Topic: 1\n",
      " Keywords:0.086*\"service\" + 0.064*\"customer\" + 0.062*\"delay\" + 0.049*\"ticket\" + 0.041*\"rebooked\" + 0.035*\"agents\" + 0.028*\"email\" + 0.026*\"response\" + 0.019*\"passengers\" + 0.019*\"reason\" \n",
      "\n",
      "Score: 0.1020858883857727\n",
      " Topic: 2\n",
      " Keywords:0.130*\"wait\" + 0.109*\"airport\" + 0.055*\"baggage\" + 0.050*\"sit\" + 0.028*\"passenger\" + 0.020*\"receive\" + 0.019*\"information\" + 0.019*\"load\" + 0.018*\"depart\" + 0.012*\"counter\" \n",
      "\n",
      "Score: 0.15522658824920654\n",
      " Topic: 3\n",
      " Keywords:0.301*\"cancel\" + 0.033*\"staff\" + 0.024*\"fly\" + 0.022*\"assistance\" + 0.021*\"reschedule\" + 0.021*\"hotel\" + 0.020*\"refund\" + 0.015*\"offer\" + 0.014*\"money\" + 0.012*\"airports\" \n",
      "\n",
      "Score: 0.10287594795227051\n",
      " Topic: 4\n",
      " Keywords:0.195*\"phone\" + 0.083*\"change\" + 0.066*\"online\" + 0.057*\"book\" + 0.035*\"problems\" + 0.020*\"handle\" + 0.019*\"option\" + 0.016*\"contact\" + 0.015*\"attempt\" + 0.011*\"ignore\" \n",
      "\n",
      "Score: 0.035585545003414154\n",
      " Topic: 5\n",
      " Keywords:0.160*\"answer\" + 0.146*\"number\" + 0.097*\"reservation\" + 0.031*\"direct\" + 0.008*\"fix\" + 0.008*\"flyer\" + 0.006*\"catch\" + 0.005*\"friends\" + 0.004*\"head\" + 0.001*\"neglect\" \n",
      "\n",
      "Score: 0.04712748900055885\n",
      " Topic: 6\n",
      " Keywords:0.109*\"time\" + 0.078*\"rebook\" + 0.077*\"available\" + 0.071*\"reservations\" + 0.067*\"seat\" + 0.034*\"airlines\" + 0.029*\"respond\" + 0.027*\"accept\" + 0.018*\"start\" + 0.014*\"compensation\" \n",
      "\n",
      "Score: 0.020365463569760323\n",
      " Topic: 7\n",
      " Keywords:0.227*\"luggage\" + 0.050*\"extra\" + 0.033*\"pay\" + 0.025*\"deliver\" + 0.016*\"honor\" + 0.002*\"walk\" + 0.001*\"rental\" + 0.001*\"seattle\" + 0.001*\"neglect\" + 0.001*\"stuffy\" \n",
      "\n",
      "Score: 0.24903516471385956\n",
      " Topic: 8\n",
      " Keywords:0.070*\"agent\" + 0.041*\"issue\" + 0.038*\"customers\" + 0.028*\"experience\" + 0.027*\"board\" + 0.023*\"check\" + 0.019*\"website\" + 0.016*\"connection\" + 0.016*\"travel\" + 0.015*\"voucher\" \n",
      "\n"
     ]
    }
   ],
   "source": [
    "unseen_document = '''United has the WORST customer experience ever! first the website was down, then the boarding and checkin processes w so complicated and slow\n",
    "                    '''\n",
    "bow_vector = id2word.doc2bow(preprocess(unseen_document))\n",
    "result = lda_model4.get_document_topics(bow_vector)\n",
    "resultdict = dict(result)\n",
    "\n",
    "\n",
    "orddict = sorted(resultdict, key=resultdict.get, reverse=True)\n",
    "Keymax = 1\n",
    "if resultdict[orddict[0]]-resultdict[orddict[1]] <=.08:\n",
    "    Keymax +=orddict[1]\n",
    "    print(\"Predicted topic: \",orddict[1]+1)\n",
    "    print(\"Probability Score: \",resultdict[orddict[1]])\n",
    "else:\n",
    "    Keymax +=orddict[0]\n",
    "    print(\"Predicted topic: \",orddict[0]+1)\n",
    "    print(\"Probability Score: \",resultdict[orddict[0]])\n",
    "\n",
    "#Keymax = max(resultdict, key=resultdict.get)+1\n",
    "#print(\"Predicted Topic :\", Keymax) \n",
    "\n",
    "\n",
    "if Keymax == 1:\n",
    "    print('Delay and Customer Service')\n",
    "elif Keymax == 2:\n",
    "    print('Baggage Issue')\n",
    "elif Keymax == 3:\n",
    "    print('Reschedule and Refund')\n",
    "elif Keymax == 4:\n",
    "    print('Phone and Online Booking')\n",
    "elif Keymax == 5:\n",
    "    print('Reservation Issue')\n",
    "elif Keymax == 6:\n",
    "    print('Seating Preferences')\n",
    "elif Keymax == 7:\n",
    "    print('Extra Charges')\n",
    "else:\n",
    "    print('Customer Experience')\n",
    "print(\"\\n\")\n",
    "\n",
    "for index, score in resultdict.items():\n",
    "    print(\"Score: {}\\n Topic: {}\\n Keywords:{} \\n\".format(score, index+1, lda_model4.print_topic(index)))"
   ]
  },
  {
   "cell_type": "code",
   "execution_count": null,
   "metadata": {},
   "outputs": [],
   "source": []
  },
  {
   "cell_type": "markdown",
   "metadata": {},
   "source": [
    "# Negative Sentiment Topics"
   ]
  },
  {
   "cell_type": "code",
   "execution_count": 189,
   "metadata": {},
   "outputs": [],
   "source": [
    "lcorp =[]\n",
    "for i in range(len(corpus)):\n",
    "    lcorp.append(lda_model4.get_document_topics(corpus[i]))"
   ]
  },
  {
   "cell_type": "code",
   "execution_count": 190,
   "metadata": {},
   "outputs": [],
   "source": [
    "topicscore = []\n",
    "for i in range(len(lcorp)):\n",
    "    topicscore.append(max(lcorp[i], key=lambda x: x[1]))"
   ]
  },
  {
   "cell_type": "code",
   "execution_count": 1,
   "metadata": {},
   "outputs": [],
   "source": [
    "neg['topic_no']=[i[0]+1 for i in topicscore]\n",
    "neg['topic_prob']=[i[1] for i in topicscore]\n",
    "keywords=[]\n",
    "for row in range(0,7):\n",
    "    keywords.append([i[0] for i in lda_model4.show_topic(row)])\n",
    "    \n",
    "kywrd = []\n",
    "kywrd.append([\" , \".join(keywords[0])])\n",
    "kywrd.append([\" , \".join(keywords[1])])\n",
    "kywrd.append([\" , \".join(keywords[2])])\n",
    "kywrd.append([\" , \".join(keywords[3])])\n",
    "kywrd.append([\" , \".join(keywords[4])])\n",
    "kywrd.append([\" , \".join(keywords[5])])\n",
    "kywrd.append([\" , \".join(keywords[6])])"
   ]
  },
  {
   "cell_type": "markdown",
   "metadata": {},
   "source": [
    "# Negative Topic Categorization\n",
    "- Topic 1 --> Delay and Customer Service\n",
    "- Topic 2 --> Baggage Issue\n",
    "- Topic 3 --> Reschedule and Refund\n",
    "- Topic 4 --> Phone and Online Booking\n",
    "- Topic 5 --> Reservation Issue\n",
    "- Topic 6 --> Seating Preferences\n",
    "- Topic 7 --> Extra Charges\n",
    "- Topic 8 --> Customer Experience"
   ]
  },
  {
   "cell_type": "code",
   "execution_count": 193,
   "metadata": {},
   "outputs": [],
   "source": [
    "negf=neg\n",
    "negf['keywords']=[kywrd[i-1] for i in negf.topic_no]\n",
    "\n",
    "topic_desc = []\n",
    "for i in negf.topic_no:\n",
    "    if i == 1:\n",
    "        topic_desc.append('Delay and Customer Service')\n",
    "    elif i == 2:\n",
    "        topic_desc.append('Baggage Issue')\n",
    "    elif i == 3:\n",
    "        topic_desc.append('Reschedule and Refund')\n",
    "    elif i == 4:\n",
    "        topic_desc.append('Phone and Online Booking')\n",
    "    elif i == 5:\n",
    "        topic_desc.append('Reservation Issue')\n",
    "    elif i == 6:\n",
    "        topic_desc.append('Seating Preferences')\n",
    "    elif i == 7:\n",
    "        topic_desc.append('Extra Charges')\n",
    "    else:\n",
    "        topic_desc.append('Customer Experience')\n",
    "        \n",
    "negf['topic_desc']=topic_desc"
   ]
  },
  {
   "cell_type": "code",
   "execution_count": null,
   "metadata": {},
   "outputs": [],
   "source": [
    "negf.to_csv(\"dataset/labelled_airline_tweet.csv\")"
   ]
  }
 ],
 "metadata": {
  "kernelspec": {
   "display_name": "Python 3 (ipykernel)",
   "language": "python",
   "name": "python3"
  },
  "language_info": {
   "codemirror_mode": {
    "name": "ipython",
    "version": 3
   },
   "file_extension": ".py",
   "mimetype": "text/x-python",
   "name": "python",
   "nbconvert_exporter": "python",
   "pygments_lexer": "ipython3",
   "version": "3.7.0"
  }
 },
 "nbformat": 4,
 "nbformat_minor": 2
}
